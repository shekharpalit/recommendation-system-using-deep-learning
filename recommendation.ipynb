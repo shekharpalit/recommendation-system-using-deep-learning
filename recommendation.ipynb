{
  "nbformat": 4,
  "nbformat_minor": 0,
  "metadata": {
    "colab": {
      "name": "recommendation.ipynb",
      "version": "0.3.2",
      "provenance": [],
      "include_colab_link": true
    },
    "kernelspec": {
      "name": "python3",
      "display_name": "Python 3"
    },
    "accelerator": "GPU"
  },
  "cells": [
    {
      "cell_type": "markdown",
      "metadata": {
        "id": "view-in-github",
        "colab_type": "text"
      },
      "source": [
        "<a href=\"https://colab.research.google.com/github/shekharpalit/recommendation-system-using-deep-learning-/blob/master/recommendation.ipynb\" target=\"_parent\"><img src=\"https://colab.research.google.com/assets/colab-badge.svg\" alt=\"Open In Colab\"/></a>"
      ]
    },
    {
      "metadata": {
        "id": "CZLzuvDn3SJ4",
        "colab_type": "code",
        "colab": {
          "base_uri": "https://localhost:8080/",
          "height": 207
        },
        "outputId": "d3d199c7-f937-433b-8d89-c2d3368884a6"
      },
      "cell_type": "code",
      "source": [
        "!wget -O moviedataset.zip http://files.grouplens.org/datasets/movielens/ml-latest.zip\n"
      ],
      "execution_count": 126,
      "outputs": [
        {
          "output_type": "stream",
          "text": [
            "--2018-11-21 00:09:11--  http://files.grouplens.org/datasets/movielens/ml-latest.zip\n",
            "Resolving files.grouplens.org (files.grouplens.org)... 128.101.34.235\n",
            "Connecting to files.grouplens.org (files.grouplens.org)|128.101.34.235|:80... connected.\n",
            "HTTP request sent, awaiting response... 200 OK\n",
            "Length: 277113433 (264M) [application/zip]\n",
            "Saving to: ‘moviedataset.zip’\n",
            "\n",
            "moviedataset.zip    100%[===================>] 264.28M  17.6MB/s    in 16s     \n",
            "\n",
            "2018-11-21 00:09:28 (16.3 MB/s) - ‘moviedataset.zip’ saved [277113433/277113433]\n",
            "\n"
          ],
          "name": "stdout"
        }
      ]
    },
    {
      "metadata": {
        "id": "AM2sksjQ4HVm",
        "colab_type": "code",
        "colab": {
          "base_uri": "https://localhost:8080/",
          "height": 173
        },
        "outputId": "04c10e56-4775-4b41-bd94-69173f28ec1d"
      },
      "cell_type": "code",
      "source": [
        "!unzip -o moviedataset.zip "
      ],
      "execution_count": 127,
      "outputs": [
        {
          "output_type": "stream",
          "text": [
            "Archive:  moviedataset.zip\n",
            "   creating: ml-latest/\n",
            "  inflating: ml-latest/links.csv     \n",
            "  inflating: ml-latest/tags.csv      \n",
            "  inflating: ml-latest/genome-tags.csv  \n",
            "  inflating: ml-latest/ratings.csv   \n",
            "  inflating: ml-latest/README.txt    \n",
            "  inflating: ml-latest/genome-scores.csv  \n",
            "  inflating: ml-latest/movies.csv    \n"
          ],
          "name": "stdout"
        }
      ]
    },
    {
      "metadata": {
        "id": "omPuJpxB4pfC",
        "colab_type": "code",
        "colab": {
          "base_uri": "https://localhost:8080/",
          "height": 52
        },
        "outputId": "50044b23-2787-4ed1-f252-d8d7a06bef3f"
      },
      "cell_type": "code",
      "source": [
        "!ls\n"
      ],
      "execution_count": 128,
      "outputs": [
        {
          "output_type": "stream",
          "text": [
            "ml-1m\t   ml-1m.zip.1\tml-latest\t  sample_data\n",
            "ml-1m.zip  ml-1m.zip.2\tmoviedataset.zip\n"
          ],
          "name": "stdout"
        }
      ]
    },
    {
      "metadata": {
        "id": "L0U5qs3z5BmT",
        "colab_type": "code",
        "colab": {}
      },
      "cell_type": "code",
      "source": [
        "import tensorflow as tf \n",
        "import numpy as np\n",
        "import pandas as pd\n",
        "import matplotlib.pyplot as plt\n",
        "%matplotlib inline"
      ],
      "execution_count": 0,
      "outputs": []
    },
    {
      "metadata": {
        "id": "LoRP_Cy35V43",
        "colab_type": "code",
        "colab": {
          "base_uri": "https://localhost:8080/",
          "height": 198
        },
        "outputId": "6bad25ba-26d3-4ac4-8a35-c312b374a6bd"
      },
      "cell_type": "code",
      "source": [
        "movies_df = pd.read_csv('ml-latest/movies.csv',sep=',', header = None)\n",
        "movies_df.head()"
      ],
      "execution_count": 130,
      "outputs": [
        {
          "output_type": "execute_result",
          "data": {
            "text/html": [
              "<div>\n",
              "<style scoped>\n",
              "    .dataframe tbody tr th:only-of-type {\n",
              "        vertical-align: middle;\n",
              "    }\n",
              "\n",
              "    .dataframe tbody tr th {\n",
              "        vertical-align: top;\n",
              "    }\n",
              "\n",
              "    .dataframe thead th {\n",
              "        text-align: right;\n",
              "    }\n",
              "</style>\n",
              "<table border=\"1\" class=\"dataframe\">\n",
              "  <thead>\n",
              "    <tr style=\"text-align: right;\">\n",
              "      <th></th>\n",
              "      <th>0</th>\n",
              "      <th>1</th>\n",
              "      <th>2</th>\n",
              "    </tr>\n",
              "  </thead>\n",
              "  <tbody>\n",
              "    <tr>\n",
              "      <th>0</th>\n",
              "      <td>movieId</td>\n",
              "      <td>title</td>\n",
              "      <td>genres</td>\n",
              "    </tr>\n",
              "    <tr>\n",
              "      <th>1</th>\n",
              "      <td>1</td>\n",
              "      <td>Toy Story (1995)</td>\n",
              "      <td>Adventure|Animation|Children|Comedy|Fantasy</td>\n",
              "    </tr>\n",
              "    <tr>\n",
              "      <th>2</th>\n",
              "      <td>2</td>\n",
              "      <td>Jumanji (1995)</td>\n",
              "      <td>Adventure|Children|Fantasy</td>\n",
              "    </tr>\n",
              "    <tr>\n",
              "      <th>3</th>\n",
              "      <td>3</td>\n",
              "      <td>Grumpier Old Men (1995)</td>\n",
              "      <td>Comedy|Romance</td>\n",
              "    </tr>\n",
              "    <tr>\n",
              "      <th>4</th>\n",
              "      <td>4</td>\n",
              "      <td>Waiting to Exhale (1995)</td>\n",
              "      <td>Comedy|Drama|Romance</td>\n",
              "    </tr>\n",
              "  </tbody>\n",
              "</table>\n",
              "</div>"
            ],
            "text/plain": [
              "         0                         1  \\\n",
              "0  movieId                     title   \n",
              "1        1          Toy Story (1995)   \n",
              "2        2            Jumanji (1995)   \n",
              "3        3   Grumpier Old Men (1995)   \n",
              "4        4  Waiting to Exhale (1995)   \n",
              "\n",
              "                                             2  \n",
              "0                                       genres  \n",
              "1  Adventure|Animation|Children|Comedy|Fantasy  \n",
              "2                   Adventure|Children|Fantasy  \n",
              "3                               Comedy|Romance  \n",
              "4                         Comedy|Drama|Romance  "
            ]
          },
          "metadata": {
            "tags": []
          },
          "execution_count": 130
        }
      ]
    },
    {
      "metadata": {
        "id": "0E8fU4Ag5r2x",
        "colab_type": "code",
        "colab": {
          "base_uri": "https://localhost:8080/",
          "height": 253
        },
        "outputId": "bf6d9e86-1e53-414d-e78e-c530119ee67e"
      },
      "cell_type": "code",
      "source": [
        "ratings_df = pd.read_csv('ml-latest/ratings.csv',sep=',', header = None)\n",
        "ratings_df.head()"
      ],
      "execution_count": 132,
      "outputs": [
        {
          "output_type": "stream",
          "text": [
            "/usr/local/lib/python3.6/dist-packages/IPython/core/interactiveshell.py:2718: DtypeWarning: Columns (0,1,2,3) have mixed types. Specify dtype option on import or set low_memory=False.\n",
            "  interactivity=interactivity, compiler=compiler, result=result)\n"
          ],
          "name": "stderr"
        },
        {
          "output_type": "execute_result",
          "data": {
            "text/html": [
              "<div>\n",
              "<style scoped>\n",
              "    .dataframe tbody tr th:only-of-type {\n",
              "        vertical-align: middle;\n",
              "    }\n",
              "\n",
              "    .dataframe tbody tr th {\n",
              "        vertical-align: top;\n",
              "    }\n",
              "\n",
              "    .dataframe thead th {\n",
              "        text-align: right;\n",
              "    }\n",
              "</style>\n",
              "<table border=\"1\" class=\"dataframe\">\n",
              "  <thead>\n",
              "    <tr style=\"text-align: right;\">\n",
              "      <th></th>\n",
              "      <th>0</th>\n",
              "      <th>1</th>\n",
              "      <th>2</th>\n",
              "      <th>3</th>\n",
              "    </tr>\n",
              "  </thead>\n",
              "  <tbody>\n",
              "    <tr>\n",
              "      <th>0</th>\n",
              "      <td>userId</td>\n",
              "      <td>movieId</td>\n",
              "      <td>rating</td>\n",
              "      <td>timestamp</td>\n",
              "    </tr>\n",
              "    <tr>\n",
              "      <th>1</th>\n",
              "      <td>1</td>\n",
              "      <td>307</td>\n",
              "      <td>3.5</td>\n",
              "      <td>1256677221</td>\n",
              "    </tr>\n",
              "    <tr>\n",
              "      <th>2</th>\n",
              "      <td>1</td>\n",
              "      <td>481</td>\n",
              "      <td>3.5</td>\n",
              "      <td>1256677456</td>\n",
              "    </tr>\n",
              "    <tr>\n",
              "      <th>3</th>\n",
              "      <td>1</td>\n",
              "      <td>1091</td>\n",
              "      <td>1.5</td>\n",
              "      <td>1256677471</td>\n",
              "    </tr>\n",
              "    <tr>\n",
              "      <th>4</th>\n",
              "      <td>1</td>\n",
              "      <td>1257</td>\n",
              "      <td>4.5</td>\n",
              "      <td>1256677460</td>\n",
              "    </tr>\n",
              "  </tbody>\n",
              "</table>\n",
              "</div>"
            ],
            "text/plain": [
              "        0        1       2           3\n",
              "0  userId  movieId  rating   timestamp\n",
              "1       1      307     3.5  1256677221\n",
              "2       1      481     3.5  1256677456\n",
              "3       1     1091     1.5  1256677471\n",
              "4       1     1257     4.5  1256677460"
            ]
          },
          "metadata": {
            "tags": []
          },
          "execution_count": 132
        }
      ]
    },
    {
      "metadata": {
        "id": "DSdC-yP46iD9",
        "colab_type": "code",
        "colab": {}
      },
      "cell_type": "code",
      "source": [
        "movies_df.columns = ['MovieID', 'Title', 'Genres']\n",
        "ratings_df.columns = ['UserID', 'MovieID', 'Rating', 'TimeStamp']"
      ],
      "execution_count": 0,
      "outputs": []
    },
    {
      "metadata": {
        "id": "ROjf9odV6__A",
        "colab_type": "code",
        "colab": {
          "base_uri": "https://localhost:8080/",
          "height": 198
        },
        "outputId": "4703b1fa-fe8e-4cff-b15b-a3163698d117"
      },
      "cell_type": "code",
      "source": [
        "movies_df.head()"
      ],
      "execution_count": 134,
      "outputs": [
        {
          "output_type": "execute_result",
          "data": {
            "text/html": [
              "<div>\n",
              "<style scoped>\n",
              "    .dataframe tbody tr th:only-of-type {\n",
              "        vertical-align: middle;\n",
              "    }\n",
              "\n",
              "    .dataframe tbody tr th {\n",
              "        vertical-align: top;\n",
              "    }\n",
              "\n",
              "    .dataframe thead th {\n",
              "        text-align: right;\n",
              "    }\n",
              "</style>\n",
              "<table border=\"1\" class=\"dataframe\">\n",
              "  <thead>\n",
              "    <tr style=\"text-align: right;\">\n",
              "      <th></th>\n",
              "      <th>MovieID</th>\n",
              "      <th>Title</th>\n",
              "      <th>Genres</th>\n",
              "    </tr>\n",
              "  </thead>\n",
              "  <tbody>\n",
              "    <tr>\n",
              "      <th>0</th>\n",
              "      <td>movieId</td>\n",
              "      <td>title</td>\n",
              "      <td>genres</td>\n",
              "    </tr>\n",
              "    <tr>\n",
              "      <th>1</th>\n",
              "      <td>1</td>\n",
              "      <td>Toy Story (1995)</td>\n",
              "      <td>Adventure|Animation|Children|Comedy|Fantasy</td>\n",
              "    </tr>\n",
              "    <tr>\n",
              "      <th>2</th>\n",
              "      <td>2</td>\n",
              "      <td>Jumanji (1995)</td>\n",
              "      <td>Adventure|Children|Fantasy</td>\n",
              "    </tr>\n",
              "    <tr>\n",
              "      <th>3</th>\n",
              "      <td>3</td>\n",
              "      <td>Grumpier Old Men (1995)</td>\n",
              "      <td>Comedy|Romance</td>\n",
              "    </tr>\n",
              "    <tr>\n",
              "      <th>4</th>\n",
              "      <td>4</td>\n",
              "      <td>Waiting to Exhale (1995)</td>\n",
              "      <td>Comedy|Drama|Romance</td>\n",
              "    </tr>\n",
              "  </tbody>\n",
              "</table>\n",
              "</div>"
            ],
            "text/plain": [
              "   MovieID                     Title  \\\n",
              "0  movieId                     title   \n",
              "1        1          Toy Story (1995)   \n",
              "2        2            Jumanji (1995)   \n",
              "3        3   Grumpier Old Men (1995)   \n",
              "4        4  Waiting to Exhale (1995)   \n",
              "\n",
              "                                        Genres  \n",
              "0                                       genres  \n",
              "1  Adventure|Animation|Children|Comedy|Fantasy  \n",
              "2                   Adventure|Children|Fantasy  \n",
              "3                               Comedy|Romance  \n",
              "4                         Comedy|Drama|Romance  "
            ]
          },
          "metadata": {
            "tags": []
          },
          "execution_count": 134
        }
      ]
    },
    {
      "metadata": {
        "id": "hNqMomOx7F6o",
        "colab_type": "code",
        "colab": {
          "base_uri": "https://localhost:8080/",
          "height": 198
        },
        "outputId": "82bf1843-cc64-4c88-e733-075f5ecd4888"
      },
      "cell_type": "code",
      "source": [
        "ratings_df.head()"
      ],
      "execution_count": 135,
      "outputs": [
        {
          "output_type": "execute_result",
          "data": {
            "text/html": [
              "<div>\n",
              "<style scoped>\n",
              "    .dataframe tbody tr th:only-of-type {\n",
              "        vertical-align: middle;\n",
              "    }\n",
              "\n",
              "    .dataframe tbody tr th {\n",
              "        vertical-align: top;\n",
              "    }\n",
              "\n",
              "    .dataframe thead th {\n",
              "        text-align: right;\n",
              "    }\n",
              "</style>\n",
              "<table border=\"1\" class=\"dataframe\">\n",
              "  <thead>\n",
              "    <tr style=\"text-align: right;\">\n",
              "      <th></th>\n",
              "      <th>UserID</th>\n",
              "      <th>MovieID</th>\n",
              "      <th>Rating</th>\n",
              "      <th>TimeStamp</th>\n",
              "    </tr>\n",
              "  </thead>\n",
              "  <tbody>\n",
              "    <tr>\n",
              "      <th>0</th>\n",
              "      <td>userId</td>\n",
              "      <td>movieId</td>\n",
              "      <td>rating</td>\n",
              "      <td>timestamp</td>\n",
              "    </tr>\n",
              "    <tr>\n",
              "      <th>1</th>\n",
              "      <td>1</td>\n",
              "      <td>307</td>\n",
              "      <td>3.5</td>\n",
              "      <td>1256677221</td>\n",
              "    </tr>\n",
              "    <tr>\n",
              "      <th>2</th>\n",
              "      <td>1</td>\n",
              "      <td>481</td>\n",
              "      <td>3.5</td>\n",
              "      <td>1256677456</td>\n",
              "    </tr>\n",
              "    <tr>\n",
              "      <th>3</th>\n",
              "      <td>1</td>\n",
              "      <td>1091</td>\n",
              "      <td>1.5</td>\n",
              "      <td>1256677471</td>\n",
              "    </tr>\n",
              "    <tr>\n",
              "      <th>4</th>\n",
              "      <td>1</td>\n",
              "      <td>1257</td>\n",
              "      <td>4.5</td>\n",
              "      <td>1256677460</td>\n",
              "    </tr>\n",
              "  </tbody>\n",
              "</table>\n",
              "</div>"
            ],
            "text/plain": [
              "   UserID  MovieID  Rating   TimeStamp\n",
              "0  userId  movieId  rating   timestamp\n",
              "1       1      307     3.5  1256677221\n",
              "2       1      481     3.5  1256677456\n",
              "3       1     1091     1.5  1256677471\n",
              "4       1     1257     4.5  1256677460"
            ]
          },
          "metadata": {
            "tags": []
          },
          "execution_count": 135
        }
      ]
    },
    {
      "metadata": {
        "id": "_BuMRvkw7HjM",
        "colab_type": "code",
        "colab": {
          "base_uri": "https://localhost:8080/",
          "height": 35
        },
        "outputId": "c9ac7530-a17c-408e-dbd2-41e47d0042cb"
      },
      "cell_type": "code",
      "source": [
        " len(movie_df)"
      ],
      "execution_count": 136,
      "outputs": [
        {
          "output_type": "execute_result",
          "data": {
            "text/plain": [
              "3883"
            ]
          },
          "metadata": {
            "tags": []
          },
          "execution_count": 136
        }
      ]
    },
    {
      "metadata": {
        "id": "-SFYvqvu7zXh",
        "colab_type": "code",
        "colab": {
          "base_uri": "https://localhost:8080/",
          "height": 198
        },
        "outputId": "0ab9fe80-ea79-4319-b41d-a2ae273fd3d2"
      },
      "cell_type": "code",
      "source": [
        "movies_df.tail()"
      ],
      "execution_count": 137,
      "outputs": [
        {
          "output_type": "execute_result",
          "data": {
            "text/html": [
              "<div>\n",
              "<style scoped>\n",
              "    .dataframe tbody tr th:only-of-type {\n",
              "        vertical-align: middle;\n",
              "    }\n",
              "\n",
              "    .dataframe tbody tr th {\n",
              "        vertical-align: top;\n",
              "    }\n",
              "\n",
              "    .dataframe thead th {\n",
              "        text-align: right;\n",
              "    }\n",
              "</style>\n",
              "<table border=\"1\" class=\"dataframe\">\n",
              "  <thead>\n",
              "    <tr style=\"text-align: right;\">\n",
              "      <th></th>\n",
              "      <th>MovieID</th>\n",
              "      <th>Title</th>\n",
              "      <th>Genres</th>\n",
              "    </tr>\n",
              "  </thead>\n",
              "  <tbody>\n",
              "    <tr>\n",
              "      <th>58094</th>\n",
              "      <td>193876</td>\n",
              "      <td>The Great Glinka (1946)</td>\n",
              "      <td>(no genres listed)</td>\n",
              "    </tr>\n",
              "    <tr>\n",
              "      <th>58095</th>\n",
              "      <td>193878</td>\n",
              "      <td>Les tribulations d'une caissière (2011)</td>\n",
              "      <td>Comedy</td>\n",
              "    </tr>\n",
              "    <tr>\n",
              "      <th>58096</th>\n",
              "      <td>193880</td>\n",
              "      <td>Her Name Was Mumu (2016)</td>\n",
              "      <td>Drama</td>\n",
              "    </tr>\n",
              "    <tr>\n",
              "      <th>58097</th>\n",
              "      <td>193882</td>\n",
              "      <td>Flora (2017)</td>\n",
              "      <td>Adventure|Drama|Horror|Sci-Fi</td>\n",
              "    </tr>\n",
              "    <tr>\n",
              "      <th>58098</th>\n",
              "      <td>193886</td>\n",
              "      <td>Leal (2018)</td>\n",
              "      <td>Action|Crime|Drama</td>\n",
              "    </tr>\n",
              "  </tbody>\n",
              "</table>\n",
              "</div>"
            ],
            "text/plain": [
              "      MovieID                                    Title  \\\n",
              "58094  193876                  The Great Glinka (1946)   \n",
              "58095  193878  Les tribulations d'une caissière (2011)   \n",
              "58096  193880                 Her Name Was Mumu (2016)   \n",
              "58097  193882                             Flora (2017)   \n",
              "58098  193886                              Leal (2018)   \n",
              "\n",
              "                              Genres  \n",
              "58094             (no genres listed)  \n",
              "58095                         Comedy  \n",
              "58096                          Drama  \n",
              "58097  Adventure|Drama|Horror|Sci-Fi  \n",
              "58098             Action|Crime|Drama  "
            ]
          },
          "metadata": {
            "tags": []
          },
          "execution_count": 137
        }
      ]
    },
    {
      "metadata": {
        "id": "JbIoyJ3x71Iq",
        "colab_type": "code",
        "colab": {
          "base_uri": "https://localhost:8080/",
          "height": 198
        },
        "outputId": "fc874473-7faf-4033-a750-c8e9343a3bdf"
      },
      "cell_type": "code",
      "source": [
        "movies_df['List Index'] = movies_df.index\n",
        "movies_df.head()"
      ],
      "execution_count": 139,
      "outputs": [
        {
          "output_type": "execute_result",
          "data": {
            "text/html": [
              "<div>\n",
              "<style scoped>\n",
              "    .dataframe tbody tr th:only-of-type {\n",
              "        vertical-align: middle;\n",
              "    }\n",
              "\n",
              "    .dataframe tbody tr th {\n",
              "        vertical-align: top;\n",
              "    }\n",
              "\n",
              "    .dataframe thead th {\n",
              "        text-align: right;\n",
              "    }\n",
              "</style>\n",
              "<table border=\"1\" class=\"dataframe\">\n",
              "  <thead>\n",
              "    <tr style=\"text-align: right;\">\n",
              "      <th></th>\n",
              "      <th>MovieID</th>\n",
              "      <th>Title</th>\n",
              "      <th>Genres</th>\n",
              "      <th>List Index</th>\n",
              "    </tr>\n",
              "  </thead>\n",
              "  <tbody>\n",
              "    <tr>\n",
              "      <th>0</th>\n",
              "      <td>movieId</td>\n",
              "      <td>title</td>\n",
              "      <td>genres</td>\n",
              "      <td>0</td>\n",
              "    </tr>\n",
              "    <tr>\n",
              "      <th>1</th>\n",
              "      <td>1</td>\n",
              "      <td>Toy Story (1995)</td>\n",
              "      <td>Adventure|Animation|Children|Comedy|Fantasy</td>\n",
              "      <td>1</td>\n",
              "    </tr>\n",
              "    <tr>\n",
              "      <th>2</th>\n",
              "      <td>2</td>\n",
              "      <td>Jumanji (1995)</td>\n",
              "      <td>Adventure|Children|Fantasy</td>\n",
              "      <td>2</td>\n",
              "    </tr>\n",
              "    <tr>\n",
              "      <th>3</th>\n",
              "      <td>3</td>\n",
              "      <td>Grumpier Old Men (1995)</td>\n",
              "      <td>Comedy|Romance</td>\n",
              "      <td>3</td>\n",
              "    </tr>\n",
              "    <tr>\n",
              "      <th>4</th>\n",
              "      <td>4</td>\n",
              "      <td>Waiting to Exhale (1995)</td>\n",
              "      <td>Comedy|Drama|Romance</td>\n",
              "      <td>4</td>\n",
              "    </tr>\n",
              "  </tbody>\n",
              "</table>\n",
              "</div>"
            ],
            "text/plain": [
              "   MovieID                     Title  \\\n",
              "0  movieId                     title   \n",
              "1        1          Toy Story (1995)   \n",
              "2        2            Jumanji (1995)   \n",
              "3        3   Grumpier Old Men (1995)   \n",
              "4        4  Waiting to Exhale (1995)   \n",
              "\n",
              "                                        Genres  List Index  \n",
              "0                                       genres           0  \n",
              "1  Adventure|Animation|Children|Comedy|Fantasy           1  \n",
              "2                   Adventure|Children|Fantasy           2  \n",
              "3                               Comedy|Romance           3  \n",
              "4                         Comedy|Drama|Romance           4  "
            ]
          },
          "metadata": {
            "tags": []
          },
          "execution_count": 139
        }
      ]
    },
    {
      "metadata": {
        "id": "5p74I9Lr8DE-",
        "colab_type": "code",
        "colab": {
          "base_uri": "https://localhost:8080/",
          "height": 198
        },
        "outputId": "d784b323-158d-47b2-8f48-4851e2949311"
      },
      "cell_type": "code",
      "source": [
        "merged_df = movie_df.merge(rating_df, on='MovieID')#merge movie dataframe with ratings\n",
        "merged_df = merged_df.drop('TimeStamp', axis = 1).drop('Title', axis = 1).drop('Genres', axis = 1)\n",
        "merged_df.head()"
      ],
      "execution_count": 140,
      "outputs": [
        {
          "output_type": "execute_result",
          "data": {
            "text/html": [
              "<div>\n",
              "<style scoped>\n",
              "    .dataframe tbody tr th:only-of-type {\n",
              "        vertical-align: middle;\n",
              "    }\n",
              "\n",
              "    .dataframe tbody tr th {\n",
              "        vertical-align: top;\n",
              "    }\n",
              "\n",
              "    .dataframe thead th {\n",
              "        text-align: right;\n",
              "    }\n",
              "</style>\n",
              "<table border=\"1\" class=\"dataframe\">\n",
              "  <thead>\n",
              "    <tr style=\"text-align: right;\">\n",
              "      <th></th>\n",
              "      <th>MovieID</th>\n",
              "      <th>List Index</th>\n",
              "      <th>UserID</th>\n",
              "      <th>Rating</th>\n",
              "    </tr>\n",
              "  </thead>\n",
              "  <tbody>\n",
              "    <tr>\n",
              "      <th>0</th>\n",
              "      <td>1</td>\n",
              "      <td>0</td>\n",
              "      <td>1</td>\n",
              "      <td>5</td>\n",
              "    </tr>\n",
              "    <tr>\n",
              "      <th>1</th>\n",
              "      <td>1</td>\n",
              "      <td>0</td>\n",
              "      <td>6</td>\n",
              "      <td>4</td>\n",
              "    </tr>\n",
              "    <tr>\n",
              "      <th>2</th>\n",
              "      <td>1</td>\n",
              "      <td>0</td>\n",
              "      <td>8</td>\n",
              "      <td>4</td>\n",
              "    </tr>\n",
              "    <tr>\n",
              "      <th>3</th>\n",
              "      <td>1</td>\n",
              "      <td>0</td>\n",
              "      <td>9</td>\n",
              "      <td>5</td>\n",
              "    </tr>\n",
              "    <tr>\n",
              "      <th>4</th>\n",
              "      <td>1</td>\n",
              "      <td>0</td>\n",
              "      <td>10</td>\n",
              "      <td>5</td>\n",
              "    </tr>\n",
              "  </tbody>\n",
              "</table>\n",
              "</div>"
            ],
            "text/plain": [
              "   MovieID  List Index  UserID  Rating\n",
              "0        1           0       1       5\n",
              "1        1           0       6       4\n",
              "2        1           0       8       4\n",
              "3        1           0       9       5\n",
              "4        1           0      10       5"
            ]
          },
          "metadata": {
            "tags": []
          },
          "execution_count": 140
        }
      ]
    },
    {
      "metadata": {
        "id": "UyZR2LLnG8KE",
        "colab_type": "code",
        "colab": {
          "base_uri": "https://localhost:8080/",
          "height": 1123
        },
        "outputId": "61e3e5cd-9101-47fc-e111-edd84227437c"
      },
      "cell_type": "code",
      "source": [
        "#group by user ID\n",
        "user_Group = merged_df.groupby('UserID')\n",
        "print(user_Group.head())"
      ],
      "execution_count": 141,
      "outputs": [
        {
          "output_type": "stream",
          "text": [
            "        MovieID  List Index  UserID  Rating\n",
            "0             1           0       1       5\n",
            "1             1           0       6       4\n",
            "2             1           0       8       4\n",
            "3             1           0       9       5\n",
            "4             1           0      10       5\n",
            "5             1           0      18       4\n",
            "6             1           0      19       5\n",
            "7             1           0      21       3\n",
            "8             1           0      23       4\n",
            "9             1           0      26       3\n",
            "10            1           0      28       3\n",
            "11            1           0      34       5\n",
            "12            1           0      36       5\n",
            "13            1           0      38       5\n",
            "14            1           0      44       5\n",
            "15            1           0      45       4\n",
            "16            1           0      48       4\n",
            "17            1           0      49       5\n",
            "18            1           0      51       5\n",
            "19            1           0      56       5\n",
            "20            1           0      60       4\n",
            "21            1           0      65       5\n",
            "22            1           0      68       3\n",
            "23            1           0      73       3\n",
            "24            1           0      75       5\n",
            "25            1           0      76       5\n",
            "26            1           0      78       4\n",
            "27            1           0      80       3\n",
            "28            1           0      90       3\n",
            "29            1           0      92       4\n",
            "...         ...         ...     ...     ...\n",
            "790195     2947        2878    1573       5\n",
            "792903     2951        2882    3552       4\n",
            "799935     2985        2916    3043       1\n",
            "803357     2989        2920    5772       3\n",
            "806585     2997        2928    4025       5\n",
            "810253     3015        2946    3132       4\n",
            "818081     3050        2981    3245       1\n",
            "820417     3061        2992     886       3\n",
            "821824     3068        2999    1270       3\n",
            "826279     3082        3013    3043       2\n",
            "830622     3099        3030    3959       2\n",
            "831859     3101        3032    4061       5\n",
            "837511     3114        3045    2867       5\n",
            "842346     3148        3079    2357       3\n",
            "848491     3174        3105    2245       5\n",
            "852162     3177        3108    2245       3\n",
            "853245     3182        3113     886       3\n",
            "853459     3185        3116     886       4\n",
            "853498     3185        3116    1270       3\n",
            "854588     3190        3121      61       1\n",
            "854622     3190        3121    1270       1\n",
            "854915     3194        3125    4211       4\n",
            "859734     3225        3156    1240       1\n",
            "860134     3238        3169    3542       1\n",
            "866194     3255        3186    4025       3\n",
            "874890     3285        3216    1270       1\n",
            "883271     3357        3288    4896       5\n",
            "903916     3448        3379    4025       5\n",
            "928813     3548        3479     986       3\n",
            "933205     3568        3499    1226       3\n",
            "\n",
            "[30200 rows x 4 columns]\n"
          ],
          "name": "stdout"
        }
      ]
    },
    {
      "metadata": {
        "id": "2FUJdZi5JLAj",
        "colab_type": "code",
        "colab": {
          "base_uri": "https://localhost:8080/",
          "height": 190
        },
        "outputId": "e12494ef-fd10-4ecb-fd48-4adce460ec57"
      },
      "cell_type": "code",
      "source": [
        "#amount of users used for training \n",
        "\n",
        "\n",
        "amountOfUsedUsers = 1000\n",
        "\n",
        "# Creating the training list\n",
        "trX = []\n",
        "\n",
        "# For each user in the group\n",
        "for userID, curUser in user_Group:\n",
        "\n",
        "    # Create a temp that stores every movie's rating\n",
        "    temp = [0]*len(movies_df)\n",
        "\n",
        "    # For each movie in curUser's movie list\n",
        "    for num, movie in curUser.iterrows():\n",
        "\n",
        "        # Divide the rating by 5 and store it\n",
        "        temp[movie['List Index']] = movie['Rating']/5.0\n",
        "\n",
        "    # Add the list of ratings into the training list\n",
        "    trX.append(temp)\n",
        "\n",
        "    # Check to see if we finished adding in the amount of users for training\n",
        "    if amountOfUsedUsers == 0:\n",
        "        break\n",
        "    amountOfUsedUsers -= 1\n",
        "print(trX)"
      ],
      "execution_count": 142,
      "outputs": [
        {
          "output_type": "stream",
          "text": [
            "IOPub data rate exceeded.\n",
            "The notebook server will temporarily stop sending output\n",
            "to the client in order to avoid crashing it.\n",
            "To change this limit, set the config variable\n",
            "`--NotebookApp.iopub_data_rate_limit`.\n",
            "\n",
            "Current values:\n",
            "NotebookApp.iopub_data_rate_limit=1000000.0 (bytes/sec)\n",
            "NotebookApp.rate_limit_window=3.0 (secs)\n",
            "\n"
          ],
          "name": "stderr"
        }
      ]
    },
    {
      "metadata": {
        "id": "kYDvg0UgKVPC",
        "colab_type": "code",
        "colab": {}
      },
      "cell_type": "code",
      "source": [
        "hiddenUnits = 50\n",
        "visibleUnits = len(movies_df)\n",
        "vb = tf.placeholder(tf.float32, [visibleUnits])  # Number of unique movies\n",
        "hb = tf.placeholder(tf.float32, [hiddenUnits])  # Number of features were going to learn\n",
        "W = tf.placeholder(tf.float32, [visibleUnits, hiddenUnits])  # Weight Matrix"
      ],
      "execution_count": 0,
      "outputs": []
    },
    {
      "metadata": {
        "id": "-nk5DytDK17U",
        "colab_type": "code",
        "colab": {}
      },
      "cell_type": "code",
      "source": [
        "# Phase 1: Input Processing\n",
        "v0 = tf.placeholder(\"float\", [None, visibleUnits])\n",
        "_h0 = tf.nn.sigmoid(tf.matmul(v0, W) + hb)  # Visible layer activation\n",
        "h0 = tf.nn.relu(tf.sign(_h0 - tf.random_uniform(tf.shape(_h0))))  # Gibb's Sampling\n",
        "\n",
        "# Phase 2: Reconstruction\n",
        "_v1 = tf.nn.sigmoid(tf.matmul(h0, tf.transpose(W)) + vb)  # Hidden layer activation\n",
        "v1 = tf.nn.relu(tf.sign(_v1 - tf.random_uniform(tf.shape(_v1))))\n",
        "h1 = tf.nn.sigmoid(tf.matmul(v1, W) + hb)"
      ],
      "execution_count": 0,
      "outputs": []
    },
    {
      "metadata": {
        "id": "f1v0gNDfL-Ir",
        "colab_type": "code",
        "colab": {}
      },
      "cell_type": "code",
      "source": [
        "# Learning rate\n",
        "alpha = 1.0\n",
        "\n",
        "# Create the gradients\n",
        "w_pos_grad = tf.matmul(tf.transpose(v0), h0)\n",
        "w_neg_grad = tf.matmul(tf.transpose(v1), h1)\n",
        "\n",
        "# Calculate the Contrastive Divergence to maximize\n",
        "CD = (w_pos_grad - w_neg_grad) / tf.to_float(tf.shape(v0)[0])\n",
        "\n",
        "# Create methods to update the weights and biases\n",
        "update_w = W + alpha * CD\n",
        "update_vb = vb + alpha * tf.reduce_mean(v0 - v1, 0)\n",
        "update_hb = hb + alpha * tf.reduce_mean(h0 - h1, 0)\n",
        "\n",
        "# Set the error function, here we use Mean Absolute Error Function\n",
        "err = v0 - v1\n",
        "err_sum = tf.reduce_mean(err*err)"
      ],
      "execution_count": 0,
      "outputs": []
    },
    {
      "metadata": {
        "id": "7JfShl4nPh_P",
        "colab_type": "code",
        "colab": {}
      },
      "cell_type": "code",
      "source": [
        ""
      ],
      "execution_count": 0,
      "outputs": []
    },
    {
      "metadata": {
        "id": "sO3lVCExP2YO",
        "colab_type": "code",
        "colab": {}
      },
      "cell_type": "code",
      "source": [
        "# Current weight\n",
        "cur_w = np.zeros([visibleUnits, hiddenUnits], np.float32)\n",
        "\n",
        "# Current visible unit biases\n",
        "cur_vb = np.zeros([visibleUnits], np.float32)\n",
        "\n",
        "# Current hidden unit biases\n",
        "cur_hb = np.zeros([hiddenUnits], np.float32)\n",
        "\n",
        "# Previous weight\n",
        "prv_w = np.zeros([visibleUnits, hiddenUnits], np.float32)\n",
        "\n",
        "# Previous visible unit biases\n",
        "prv_vb = np.zeros([visibleUnits], np.float32)\n",
        "\n",
        "# Previous hidden unit biases\n",
        "prv_hb = np.zeros([hiddenUnits], np.float32)\n",
        "sess = tf.Session()\n",
        "sess.run(tf.global_variables_initializer())"
      ],
      "execution_count": 0,
      "outputs": []
    },
    {
      "metadata": {
        "id": "GK8_MU7xR34-",
        "colab_type": "code",
        "colab": {
          "base_uri": "https://localhost:8080/",
          "height": 538
        },
        "outputId": "cf7e70b3-d5f0-4755-ec16-e1845d2fe196"
      },
      "cell_type": "code",
      "source": [
        "# Train RBM with 15 Epochs, with Each Epoch using 10 batches with size 100, After training print out the error by epoch\n",
        "epochs = 15\n",
        "batchsize = 100\n",
        "errors = []\n",
        "for i in range(epochs):\n",
        "    for start, end in zip(range(0, len(trX), batchsize), range(batchsize, len(trX), batchsize)):\n",
        "        batch = trX[start:end]\n",
        "        cur_w = sess.run(update_w, feed_dict={v0: batch, W: prv_w, vb: prv_vb, hb: prv_hb})\n",
        "        cur_vb = sess.run(update_vb, feed_dict={v0: batch, W: prv_w, vb: prv_vb, hb: prv_hb})\n",
        "        cur_hb = sess.run(update_hb, feed_dict={v0: batch, W: prv_w, vb: prv_vb, hb: prv_hb})\n",
        "        prv_w = cur_w\n",
        "        prv_vb = cur_vb\n",
        "        prv_hb = cur_hb\n",
        "    errors.append(sess.run(err_sum, feed_dict={v0: trX, W: cur_w, vb: cur_vb, hb: cur_hb}))\n",
        "    print(errors[-1])\n",
        "plt.plot(errors)\n",
        "plt.ylabel('Error')\n",
        "plt.xlabel('Epoch')\n",
        "plt.show()"
      ],
      "execution_count": 147,
      "outputs": [
        {
          "output_type": "stream",
          "text": [
            "0.09492873\n",
            "0.05113537\n",
            "0.03489034\n",
            "0.026355153\n",
            "0.018353712\n",
            "0.012372804\n",
            "0.0068426277\n",
            "0.004776221\n",
            "0.0035334183\n",
            "0.003417285\n",
            "0.0032849326\n",
            "0.0032098568\n",
            "0.0031267095\n",
            "0.0030429058\n",
            "0.0029605492\n"
          ],
          "name": "stdout"
        },
        {
          "output_type": "display_data",
          "data": {
            "image/png": "[encoded data removed]",
            "text/plain": [
              "<matplotlib.figure.Figure at 0x7fa9e3b09dd8>"
            ]
          },
          "metadata": {
            "tags": []
          }
        }
      ]
    },
    {
      "metadata": {
        "id": "i8hCXW8xlcER",
        "colab_type": "code",
        "colab": {}
      },
      "cell_type": "code",
      "source": [
        "inputUser = [trX[10]]"
      ],
      "execution_count": 0,
      "outputs": []
    },
    {
      "metadata": {
        "id": "DRICWjmoaBJQ",
        "colab_type": "code",
        "colab": {}
      },
      "cell_type": "code",
      "source": [
        "hh0 = tf.nn.sigmoid(tf.matmul(v0, W) + hb)\n",
        "vv1 = tf.nn.sigmoid(tf.matmul(hh0, tf.transpose(W)) + vb)\n",
        "feed = sess.run(hh0, feed_dict={v0: inputUser, W: prv_w, hb: prv_hb})\n",
        "rec = sess.run(vv1, feed_dict={hh0: feed, W: prv_w, vb: prv_vb})\n"
      ],
      "execution_count": 0,
      "outputs": []
    },
    {
      "metadata": {
        "id": "UU7HnwFklnxU",
        "colab_type": "code",
        "colab": {
          "base_uri": "https://localhost:8080/",
          "height": 1140
        },
        "outputId": "0052237c-4d2a-41a2-87fb-515ce1c6f9f1"
      },
      "cell_type": "code",
      "source": [
        "\n",
        "# List the 20 most recommended movies for our mock user by sorting it by their scores given by our model.\n",
        "scored_movies_df_50 = movies_df\n",
        "scored_movies_df_50[\"Recommendation Score\"] = rec[0]\n",
        "print(scored_movies_df_50.sort_values([\"Recommendation Score\"], ascending=False).head(20))"
      ],
      "execution_count": 151,
      "outputs": [
        {
          "output_type": "stream",
          "text": [
            "     MovieID                                              Title  \\\n",
            "589      594             Snow White and the Seven Dwarfs (1937)   \n",
            "1959    2041                                   Condorman (1981)   \n",
            "315      317                           Santa Clause, The (1994)   \n",
            "604      609    Homeward Bound II: Lost in San Francisco (1996)   \n",
            "2693    2777                                       Cobra (1925)   \n",
            "1245    1272                                      Patton (1970)   \n",
            "108      109                Headless Body in Topless Bar (1995)   \n",
            "2928    3012                             Battling Butler (1926)   \n",
            "1250    1277                          Cyrano de Bergerac (1990)   \n",
            "1078    1099                          Christmas Carol, A (1938)   \n",
            "1854    1936                                Mrs. Miniver (1942)   \n",
            "1656    1715                               Office Killer (1997)   \n",
            "1372    1404                    Night Falls on Manhattan (1996)   \n",
            "49        49                       When Night Is Falling (1995)   \n",
            "3878    3970  Beyond, The (E tu vivrai nel terrore - L'aldil...   \n",
            "1726    1798                                        Hush (1998)   \n",
            "33        33                            Wings of Courage (1995)   \n",
            "257      259                               Kiss of Death (1995)   \n",
            "148      149                                     Amateur (1994)   \n",
            "1287    1315                           Paris Was a Woman (1995)   \n",
            "\n",
            "                                        Genres  List Index  \\\n",
            "589   Animation|Children|Drama|Fantasy|Musical         589   \n",
            "1959          Action|Adventure|Children|Comedy        1959   \n",
            "315                       Comedy|Drama|Fantasy         315   \n",
            "604                         Adventure|Children         604   \n",
            "2693                                     Drama        2693   \n",
            "1245                                 Drama|War        1245   \n",
            "108                      Comedy|Drama|Thriller         108   \n",
            "2928                                    Comedy        2928   \n",
            "1250                      Comedy|Drama|Romance        1250   \n",
            "1078                    Children|Drama|Fantasy        1078   \n",
            "1854                                 Drama|War        1854   \n",
            "1656                                  Thriller        1656   \n",
            "1372                               Crime|Drama        1372   \n",
            "49                               Drama|Romance          49   \n",
            "3878                                    Horror        3878   \n",
            "1726                                  Thriller        1726   \n",
            "33                      Adventure|Romance|IMAX          33   \n",
            "257                       Crime|Drama|Thriller         257   \n",
            "148                       Crime|Drama|Thriller         148   \n",
            "1287                               Documentary        1287   \n",
            "\n",
            "      Recommendation Score  \n",
            "589               0.978851  \n",
            "1959              0.975382  \n",
            "315               0.916655  \n",
            "604               0.893052  \n",
            "2693              0.846249  \n",
            "1245              0.813225  \n",
            "108               0.789284  \n",
            "2928              0.656548  \n",
            "1250              0.643151  \n",
            "1078              0.633910  \n",
            "1854              0.631535  \n",
            "1656              0.628196  \n",
            "1372              0.594065  \n",
            "49                0.589913  \n",
            "3878              0.588318  \n",
            "1726              0.577921  \n",
            "33                0.567962  \n",
            "257               0.559483  \n",
            "148               0.559129  \n",
            "1287              0.543167  \n"
          ],
          "name": "stdout"
        }
      ]
    },
    {
      "metadata": {
        "id": "EiX9NrX2lr0H",
        "colab_type": "code",
        "colab": {
          "base_uri": "https://localhost:8080/",
          "height": 104
        },
        "outputId": "22b29db2-bb5d-430c-a3ec-b38d13be802b"
      },
      "cell_type": "code",
      "source": [
        "# Find the mock user's UserID from the data\n",
        "print(merged_df.iloc[50])  # Result you get is UserID 150"
      ],
      "execution_count": 152,
      "outputs": [
        {
          "output_type": "stream",
          "text": [
            "MovieID         1\n",
            "List Index      0\n",
            "UserID        150\n",
            "Rating          4\n",
            "Name: 50, dtype: int64\n"
          ],
          "name": "stdout"
        }
      ]
    },
    {
      "metadata": {
        "id": "xSjIOEw3lxaD",
        "colab_type": "code",
        "colab": {
          "base_uri": "https://localhost:8080/",
          "height": 121
        },
        "outputId": "101909c1-0d3e-4193-ee03-8a9644e0b0f5"
      },
      "cell_type": "code",
      "source": [
        "# Find all movies the mock user has watched before\n",
        "movies_df_50 = merged_df[merged_df['UserID'] == 150]\n",
        "print(movies_df_50.head())"
      ],
      "execution_count": 153,
      "outputs": [
        {
          "output_type": "stream",
          "text": [
            "       MovieID  List Index  UserID  Rating\n",
            "50           1           0     150       4\n",
            "11866       24          23     150       4\n",
            "12492       25          24     150       4\n",
            "15967       34          33     150       5\n",
            "36528      111         109     150       4\n"
          ],
          "name": "stdout"
        }
      ]
    },
    {
      "metadata": {
        "id": "nVkf3dpFl1op",
        "colab_type": "code",
        "colab": {}
      },
      "cell_type": "code",
      "source": [
        "# Merging movies_df with ratings_df by MovieID\n",
        "merged_df_50 = scored_movies_df_50.merge(movies_df_50, on='MovieID', how='outer')"
      ],
      "execution_count": 0,
      "outputs": []
    },
    {
      "metadata": {
        "id": "GUnotPoFl54_",
        "colab_type": "code",
        "colab": {}
      },
      "cell_type": "code",
      "source": [
        "# Dropping unnecessary columns\n",
        "merged_df_50 = merged_df_50.drop('List Index_y', axis=1).drop('UserID', axis=1)"
      ],
      "execution_count": 0,
      "outputs": []
    },
    {
      "metadata": {
        "id": "-k_n5Nvml9HG",
        "colab_type": "code",
        "colab": {
          "base_uri": "https://localhost:8080/",
          "height": 1140
        },
        "outputId": "ac90a238-7302-445e-a856-549fdfa1d336"
      },
      "cell_type": "code",
      "source": [
        "# Sort and take a look at first 20 rows\n",
        "print(merged_df_50.sort_values(['Recommendation Score'], ascending=False).head(20))"
      ],
      "execution_count": 156,
      "outputs": [
        {
          "output_type": "stream",
          "text": [
            "     MovieID                                              Title  \\\n",
            "589      594             Snow White and the Seven Dwarfs (1937)   \n",
            "1959    2041                                   Condorman (1981)   \n",
            "315      317                           Santa Clause, The (1994)   \n",
            "604      609    Homeward Bound II: Lost in San Francisco (1996)   \n",
            "2693    2777                                       Cobra (1925)   \n",
            "1245    1272                                      Patton (1970)   \n",
            "108      109                Headless Body in Topless Bar (1995)   \n",
            "2928    3012                             Battling Butler (1926)   \n",
            "1250    1277                          Cyrano de Bergerac (1990)   \n",
            "1078    1099                          Christmas Carol, A (1938)   \n",
            "1854    1936                                Mrs. Miniver (1942)   \n",
            "1656    1715                               Office Killer (1997)   \n",
            "1372    1404                    Night Falls on Manhattan (1996)   \n",
            "49        49                       When Night Is Falling (1995)   \n",
            "3878    3970  Beyond, The (E tu vivrai nel terrore - L'aldil...   \n",
            "1726    1798                                        Hush (1998)   \n",
            "33        33                            Wings of Courage (1995)   \n",
            "257      259                               Kiss of Death (1995)   \n",
            "148      149                                     Amateur (1994)   \n",
            "1287    1315                           Paris Was a Woman (1995)   \n",
            "\n",
            "                                        Genres  List Index_x  \\\n",
            "589   Animation|Children|Drama|Fantasy|Musical         589.0   \n",
            "1959          Action|Adventure|Children|Comedy        1959.0   \n",
            "315                       Comedy|Drama|Fantasy         315.0   \n",
            "604                         Adventure|Children         604.0   \n",
            "2693                                     Drama        2693.0   \n",
            "1245                                 Drama|War        1245.0   \n",
            "108                      Comedy|Drama|Thriller         108.0   \n",
            "2928                                    Comedy        2928.0   \n",
            "1250                      Comedy|Drama|Romance        1250.0   \n",
            "1078                    Children|Drama|Fantasy        1078.0   \n",
            "1854                                 Drama|War        1854.0   \n",
            "1656                                  Thriller        1656.0   \n",
            "1372                               Crime|Drama        1372.0   \n",
            "49                               Drama|Romance          49.0   \n",
            "3878                                    Horror        3878.0   \n",
            "1726                                  Thriller        1726.0   \n",
            "33                      Adventure|Romance|IMAX          33.0   \n",
            "257                       Crime|Drama|Thriller         257.0   \n",
            "148                       Crime|Drama|Thriller         148.0   \n",
            "1287                               Documentary        1287.0   \n",
            "\n",
            "      Recommendation Score  Rating  \n",
            "589               0.978851     NaN  \n",
            "1959              0.975382     NaN  \n",
            "315               0.916655     NaN  \n",
            "604               0.893052     NaN  \n",
            "2693              0.846249     NaN  \n",
            "1245              0.813225     NaN  \n",
            "108               0.789284     NaN  \n",
            "2928              0.656548     NaN  \n",
            "1250              0.643151     NaN  \n",
            "1078              0.633910     NaN  \n",
            "1854              0.631535     NaN  \n",
            "1656              0.628196     NaN  \n",
            "1372              0.594065     NaN  \n",
            "49                0.589913     NaN  \n",
            "3878              0.588318     NaN  \n",
            "1726              0.577921     NaN  \n",
            "33                0.567962     NaN  \n",
            "257               0.559483     NaN  \n",
            "148               0.559129     NaN  \n",
            "1287              0.543167     NaN  \n"
          ],
          "name": "stdout"
        }
      ]
    },
    {
      "metadata": {
        "id": "hc_A0oYwmAE9",
        "colab_type": "code",
        "colab": {}
      },
      "cell_type": "code",
      "source": [
        ""
      ],
      "execution_count": 0,
      "outputs": []
    }
  ]
}